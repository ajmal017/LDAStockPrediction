{
 "cells": [
  {
   "cell_type": "code",
   "execution_count": 10,
   "metadata": {
    "scrolled": false
   },
   "outputs": [
    {
     "name": "stdout",
     "output_type": "stream",
     "text": [
      "20 1000 0 False\n",
      "20 1000 1 True\n",
      "20 1500 0 False\n",
      "20 1500 1 True\n",
      "20 2000 0 False\n",
      "20 2000 1 True\n",
      "35 1000 0 False\n",
      "35 1000 1 True\n",
      "35 1500 0 False\n",
      "35 2000 0 False\n",
      "35 2000 1 True\n",
      "50 1000 0 False\n",
      "50 1000 1 True\n",
      "50 1500 0 False\n",
      "50 2000 0 False\n",
      "50 2000 1 True\n"
     ]
    }
   ],
   "source": [
    "import os\n",
    "import re\n",
    "import pandas as pd\n",
    "\n",
    "results=[]\n",
    "\n",
    "for filename in os.listdir('.'):\n",
    "    if filename.startswith('Results_'):\n",
    "        #print (filename.split('_'))\n",
    "        _,n_topics,n_words,day_offset,merge_by_day=filename.split('_')\n",
    "        merge_by_day=merge_by_day.startswith('True')\n",
    "        print(n_topics,n_words,day_offset,merge_by_day)\n",
    "        \n",
    "        df=pd.read_csv(filename,sep=';')\n",
    "        results.append({'n_topics':n_topics,'n_words':n_words,'day_offset':day_offset,'merge_by_day':merge_by_day,'df_results':df})\n",
    "        \n",
    "    "
   ]
  },
  {
   "cell_type": "code",
   "execution_count": 25,
   "metadata": {},
   "outputs": [
    {
     "name": "stdout",
     "output_type": "stream",
     "text": [
      "1000 20 False 0.5759759759759759\n",
      "1000 20 True 0.5620915032679739\n",
      "1500 20 False 0.5695679139962787\n",
      "1500 20 True 0.5808823529411765\n",
      "2000 20 False 0.5804597701149425\n",
      "2000 20 True 0.5542168674698795\n",
      "1000 35 False 0.5821739130434782\n",
      "1000 35 True 0.5806451612903226\n",
      "1500 35 False 0.5784722222222223\n",
      "2000 35 False 0.5794746818304901\n",
      "2000 35 True 0.5714285714285714\n",
      "1000 50 False 0.5760808534531162\n",
      "1000 50 True 0.5833333333333334\n",
      "1500 50 False 0.578861409239384\n",
      "2000 50 False 0.5763871913957468\n",
      "2000 50 True 0.5634920634920635\n"
     ]
    },
    {
     "data": {
      "text/plain": [
       "<matplotlib.collections.PathCollection at 0x1f220f21ac0>"
      ]
     },
     "execution_count": 25,
     "metadata": {},
     "output_type": "execute_result"
    },
    {
     "data": {
      "image/png": "[encoded data removed]",
      "text/plain": [
       "<Figure size 432x288 with 1 Axes>"
      ]
     },
     "metadata": {
      "needs_background": "light"
     },
     "output_type": "display_data"
    }
   ],
   "source": [
    "xx=[]\n",
    "yy=[]\n",
    "\n",
    "for result in results:\n",
    "    df= result['df_results']\n",
    "    #print(df)\n",
    "    #print(df[df['test_precision']= df['test_precision'].max()])\n",
    "    best_row=df.iloc[df['test_precision'].argmax()]\n",
    "    xx.append(result['n_topics'])\n",
    "    yy.append(best_row['test_precision'])\n",
    "    print(result['n_words'],result['n_topics'],result['merge_by_day'],best_row['test_precision'])\n",
    "import matplotlib.pyplot as plt\n",
    "\n",
    "plt.xlabel('topics')\n",
    "plt.ylabel('precision')\n",
    "plt.scatter(xx,yy)\n",
    "    \n",
    "    "
   ]
  }
 ],
 "metadata": {
  "kernelspec": {
   "display_name": "Python 3",
   "language": "python",
   "name": "python3"
  },
  "language_info": {
   "codemirror_mode": {
    "name": "ipython",
    "version": 3
   },
   "file_extension": ".py",
   "mimetype": "text/x-python",
   "name": "python",
   "nbconvert_exporter": "python",
   "pygments_lexer": "ipython3",
   "version": "3.8.3"
  }
 },
 "nbformat": 4,
 "nbformat_minor": 4
}
